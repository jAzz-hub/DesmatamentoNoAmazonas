{
 "cells": [
  {
   "cell_type": "markdown",
   "metadata": {},
   "source": [
    "# Modelagem à partir dos dados\n",
    "\n",
    "Neste projeto um grafo será modelado para que a análise seja realizada através de algoritmos aplicados à essa estrutura. Portanto primeiramente este grafo será modelado com os dados exportados pelo [DataCleaning.ipynb](#https://github.com/jAzz-hub/DesmatamentoNoAmazonas/blob/main/Notebooks/DataCleaning.ipynb)."
   ]
  },
  {
   "cell_type": "code",
   "execution_count": 50,
   "metadata": {},
   "outputs": [
    {
     "data": {
      "text/html": [
       "<div>\n",
       "<style scoped>\n",
       "    .dataframe tbody tr th:only-of-type {\n",
       "        vertical-align: middle;\n",
       "    }\n",
       "\n",
       "    .dataframe tbody tr th {\n",
       "        vertical-align: top;\n",
       "    }\n",
       "\n",
       "    .dataframe thead th {\n",
       "        text-align: right;\n",
       "    }\n",
       "</style>\n",
       "<table border=\"1\" class=\"dataframe\">\n",
       "  <thead>\n",
       "    <tr style=\"text-align: right;\">\n",
       "      <th></th>\n",
       "      <th>Lat</th>\n",
       "      <th>Long</th>\n",
       "      <th>Municipio</th>\n",
       "      <th>AreaKm2</th>\n",
       "      <th>Desmatado2000</th>\n",
       "      <th>Floresta2000</th>\n",
       "      <th>NaoObservado2000</th>\n",
       "      <th>NaoFloresta2000</th>\n",
       "      <th>Hidrografia2000</th>\n",
       "      <th>Fronteiras</th>\n",
       "      <th>MaiorQueAMédia</th>\n",
       "    </tr>\n",
       "  </thead>\n",
       "  <tbody>\n",
       "    <tr>\n",
       "      <th>0</th>\n",
       "      <td>-2.83490</td>\n",
       "      <td>-57.83095</td>\n",
       "      <td>Urucurituba</td>\n",
       "      <td>2915</td>\n",
       "      <td>82.3</td>\n",
       "      <td>142.7</td>\n",
       "      <td>0.0</td>\n",
       "      <td>1689.6</td>\n",
       "      <td>1000.4</td>\n",
       "      <td>['Boa Vista do Ramos', 'Barreirinha', 'Itapira...</td>\n",
       "      <td>False</td>\n",
       "    </tr>\n",
       "    <tr>\n",
       "      <th>1</th>\n",
       "      <td>-1.24938</td>\n",
       "      <td>-58.78714</td>\n",
       "      <td>Urucara</td>\n",
       "      <td>28012</td>\n",
       "      <td>299.2</td>\n",
       "      <td>26642.5</td>\n",
       "      <td>0.9</td>\n",
       "      <td>423.0</td>\n",
       "      <td>646.4</td>\n",
       "      <td>['Nhamunda', 'Urucurituba', 'Itapiranga', 'Sao...</td>\n",
       "      <td>False</td>\n",
       "    </tr>\n",
       "    <tr>\n",
       "      <th>2</th>\n",
       "      <td>-3.20648</td>\n",
       "      <td>-65.43058</td>\n",
       "      <td>Uarini</td>\n",
       "      <td>10448</td>\n",
       "      <td>194.2</td>\n",
       "      <td>9721.7</td>\n",
       "      <td>0.0</td>\n",
       "      <td>100.3</td>\n",
       "      <td>431.8</td>\n",
       "      <td>['Maraa', 'Fonte Boa', 'Jurua', 'Alvaraes', 'T...</td>\n",
       "      <td>False</td>\n",
       "    </tr>\n",
       "  </tbody>\n",
       "</table>\n",
       "</div>"
      ],
      "text/plain": [
       "       Lat      Long    Municipio  AreaKm2  Desmatado2000  Floresta2000  \\\n",
       "0 -2.83490 -57.83095  Urucurituba     2915           82.3         142.7   \n",
       "1 -1.24938 -58.78714      Urucara    28012          299.2       26642.5   \n",
       "2 -3.20648 -65.43058       Uarini    10448          194.2        9721.7   \n",
       "\n",
       "   NaoObservado2000  NaoFloresta2000  Hidrografia2000  \\\n",
       "0               0.0           1689.6           1000.4   \n",
       "1               0.9            423.0            646.4   \n",
       "2               0.0            100.3            431.8   \n",
       "\n",
       "                                          Fronteiras  MaiorQueAMédia  \n",
       "0  ['Boa Vista do Ramos', 'Barreirinha', 'Itapira...           False  \n",
       "1  ['Nhamunda', 'Urucurituba', 'Itapiranga', 'Sao...           False  \n",
       "2  ['Maraa', 'Fonte Boa', 'Jurua', 'Alvaraes', 'T...           False  "
      ]
     },
     "execution_count": 50,
     "metadata": {},
     "output_type": "execute_result"
    }
   ],
   "source": [
    "#Importando modulos:\n",
    "from modules import *\n",
    "\n",
    "DATASETS = []\n",
    "\n",
    "#Recriando vetor com dados tratados\n",
    "for i in range(0,19):\n",
    "    if i < 10: DATASETS.append(pd.read_csv(f'../Data/CleanData2000_2018/Cleaned200{i}.csv', sep=',', encoding='utf-8'))\n",
    "    elif i>=10: DATASETS.append(pd.read_csv(f'../Data/CleanData2000_2018/Cleaned20{i}.csv', sep=',', encoding='utf-8'))\n",
    "     \n",
    "\n",
    "DATASETS[0].head(3)\n",
    "\n"
   ]
  },
  {
   "cell_type": "markdown",
   "metadata": {},
   "source": [
    "### Função que cria arestas dos nós de cidades vizinhas:\n",
    "\n",
    "A função recebe um `dataFrame` e estabelece as arestas(adjascência) entre nós(municípios) com base nas nas listas da coluna `Fronteira`.\n"
   ]
  },
  {
   "cell_type": "code",
   "execution_count": null,
   "metadata": {},
   "outputs": [],
   "source": [
    "\n",
    "def LinkGenerator(dataFrame):\n",
    "    \n",
    "    Mapa = nx.Graph()\n",
    "    \n",
    "    for line in range(0, len(dataFrame['Municipio'])):\n",
    "        neighbors = [ast.literal_eval(neighbor) for neighbor in dataFrame['Fronteiras']]\n",
    "        \n",
    "        \n",
    "        for cityNeighbor in neighbors[line]:\n",
    "            \n",
    "            if not Mapa.has_edge(dataFrame['Municipio'][line], cityNeighbor) and  not Mapa.has_edge(cityNeighbor, dataFrame['Municipio'][line]):        \n",
    "                Mapa.add_edge(dataFrame['Municipio'][line], cityNeighbor)#Fronteiras \n",
    "            \n",
    "            else:\n",
    "                pass\n",
    "            \n",
    "    return Mapa\n"
   ]
  },
  {
   "cell_type": "code",
   "execution_count": null,
   "metadata": {},
   "outputs": [],
   "source": [
    "\n",
    "#Criando Grafos para cada ano:\n",
    "Graphs = []\n",
    "for i in range(0, len(DATASETS)):\n",
    "    Graphs.append(LinkGenerator(DATASETS[i]))\n",
    "\n",
    "#Mostrando quantidade de nós e arestas em um grafo do ano 2000:\n",
    "print(len(Graphs[0].nodes()))\n",
    "print(len(Graphs[0].edges()))\n",
    "\n"
   ]
  },
  {
   "cell_type": "code",
   "execution_count": null,
   "metadata": {},
   "outputs": [],
   "source": [
    "\n",
    "\n",
    "def AverageHigh(city, dataFrame):\n",
    "    for index in range(0, len(dataFrame['Municipio'])):\n",
    "        return dataFrame['Municipio'][index] == city and  dataFrame['MaiorQueAMédia'][index]\n",
    "    \n",
    "    return False   \n",
    "\n",
    "#Ideia da função que cria grafo com arestas acima da média:    \n",
    "# def LinkGreaterThanAverageGenerator(cidade, fronteiras, MapaDeRisco):\n",
    "    #pega a cidade:\n",
    "    #verifica se o Desmatamento está acima da média:\n",
    "    #se estiver gera arestas entre ela e seuas fronteiras com desmatamento acima da média:"
   ]
  },
  {
   "cell_type": "code",
   "execution_count": null,
   "metadata": {},
   "outputs": [],
   "source": []
  }
 ],
 "metadata": {
  "kernelspec": {
   "display_name": "Python 3",
   "language": "python",
   "name": "python3"
  },
  "language_info": {
   "codemirror_mode": {
    "name": "ipython",
    "version": 3
   },
   "file_extension": ".py",
   "mimetype": "text/x-python",
   "name": "python",
   "nbconvert_exporter": "python",
   "pygments_lexer": "ipython3",
   "version": "3.9.2"
  }
 },
 "nbformat": 4,
 "nbformat_minor": 2
}

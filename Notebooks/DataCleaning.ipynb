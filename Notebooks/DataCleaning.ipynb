{
 "cells": [
  {
   "cell_type": "markdown",
   "metadata": {},
   "source": [
    "# Obtenção dos Dados:\n",
    "\n",
    "Este projeto foi inspirado pelas atividades previamente realizadas por [Kizzy Terra](#https://github.com/kterra) e os dados utilizados estão neste [repositório](#https://github.com/kterra/ciencia-de-dados-aplicada), que segundo a própria autora foram dados obtidos pelo PRODES.\n",
    "\n",
    "_\"O projeto PRODES realiza o monitoramento por satélites do desmatamento por corte raso na Amazônia Legal e produz, desde 1988, as taxas anuais de desmatamento na região, que são usadas pelo governo brasileiro para o estabelecimento de políticas públicas.\"_ - [Coordenação Geral de Observação da Terra INPE](#http://www.obt.inpe.br/OBT/assuntos/programas/amazonia/prodes#:~:text=O%20projeto%20PRODES%20realiza%20o,o%20estabelecimento%20de%20pol%C3%ADticas%20p%C3%BAblicas.)"
   ]
  },
  {
   "cell_type": "code",
   "execution_count": 1,
   "metadata": {},
   "outputs": [
    {
     "data": {
      "text/plain": [
       "pandas.core.frame.DataFrame"
      ]
     },
     "execution_count": 1,
     "metadata": {},
     "output_type": "execute_result"
    }
   ],
   "source": [
    "from modules import *\n",
    "\n",
    "# DATASETS = [pd.read_csv(f'../Data/DesmatamentoMunicipios20{digits}.txt', sep=',', encoding='iso-8859-1') for digits in range(0,18)]\n",
    "DATASETS = []\n",
    "\n",
    "for i in range(0,19):\n",
    "    a = '../Data/2000_2018/DesmatamentoMunicipiosAM2000.txt'\n",
    "    if i < 10: DATASETS.append(pd.read_csv(f'../Data/2000_2018/DesmatamentoMunicipiosAM200{i}.txt', sep=',', encoding='iso-8859-1'))\n",
    "    elif i>=10: DATASETS.append(pd.read_csv(f'../Data/2000_2018/DesmatamentoMunicipiosAM20{i}.txt', sep=',', encoding='iso-8859-1'))\n",
    "     \n",
    "\n",
    "type(DATASETS[0])\n"
   ]
  },
  {
   "cell_type": "markdown",
   "metadata": {},
   "source": [
    "**DATASETS** é uma lista com 19 dataframes com as informações dos arquivos que estão no diretório _`../Data/2000_2018`_"
   ]
  },
  {
   "cell_type": "code",
   "execution_count": 2,
   "metadata": {},
   "outputs": [
    {
     "data": {
      "text/html": [
       "<div>\n",
       "<style scoped>\n",
       "    .dataframe tbody tr th:only-of-type {\n",
       "        vertical-align: middle;\n",
       "    }\n",
       "\n",
       "    .dataframe tbody tr th {\n",
       "        vertical-align: top;\n",
       "    }\n",
       "\n",
       "    .dataframe thead th {\n",
       "        text-align: right;\n",
       "    }\n",
       "</style>\n",
       "<table border=\"1\" class=\"dataframe\">\n",
       "  <thead>\n",
       "    <tr style=\"text-align: right;\">\n",
       "      <th></th>\n",
       "      <th>Nr</th>\n",
       "      <th>Lat</th>\n",
       "      <th>Long</th>\n",
       "      <th>Latgms</th>\n",
       "      <th>Longms</th>\n",
       "      <th>Municipio</th>\n",
       "      <th>CodIbge</th>\n",
       "      <th>Estado</th>\n",
       "      <th>AreaKm2</th>\n",
       "      <th>Desmatado2000</th>\n",
       "      <th>Incremento19992000</th>\n",
       "      <th>Floresta2000</th>\n",
       "      <th>Nuvem2000</th>\n",
       "      <th>NaoObservado2000</th>\n",
       "      <th>NaoFloresta2000</th>\n",
       "      <th>Hidrografia2000</th>\n",
       "      <th>Soma</th>\n",
       "    </tr>\n",
       "  </thead>\n",
       "  <tbody>\n",
       "    <tr>\n",
       "      <th>52</th>\n",
       "      <td>53</td>\n",
       "      <td>-5.49767</td>\n",
       "      <td>-70.32124</td>\n",
       "      <td>S 5 29 51.61</td>\n",
       "      <td>O 70 19 16.46</td>\n",
       "      <td>Benjamin Constant</td>\n",
       "      <td>1300607</td>\n",
       "      <td>AM</td>\n",
       "      <td>9146</td>\n",
       "      <td>175.8</td>\n",
       "      <td>NaN</td>\n",
       "      <td>8748.8</td>\n",
       "      <td>0.0</td>\n",
       "      <td>16.6</td>\n",
       "      <td>0.0</td>\n",
       "      <td>204.8</td>\n",
       "      <td>100</td>\n",
       "    </tr>\n",
       "    <tr>\n",
       "      <th>30</th>\n",
       "      <td>31</td>\n",
       "      <td>-1.38598</td>\n",
       "      <td>-68.79404</td>\n",
       "      <td>S 1 23 9.53</td>\n",
       "      <td>O 68 47 38.54</td>\n",
       "      <td>Japurá</td>\n",
       "      <td>1302108</td>\n",
       "      <td>AM</td>\n",
       "      <td>57555</td>\n",
       "      <td>43.5</td>\n",
       "      <td>NaN</td>\n",
       "      <td>55889.4</td>\n",
       "      <td>1.0</td>\n",
       "      <td>98.3</td>\n",
       "      <td>2.6</td>\n",
       "      <td>1520.2</td>\n",
       "      <td>100</td>\n",
       "    </tr>\n",
       "    <tr>\n",
       "      <th>13</th>\n",
       "      <td>14</td>\n",
       "      <td>-2.50853</td>\n",
       "      <td>-59.60122</td>\n",
       "      <td>S 2 30 30.71</td>\n",
       "      <td>O 59 36 4.39</td>\n",
       "      <td>Rio Preto da Eva</td>\n",
       "      <td>1303569</td>\n",
       "      <td>AM</td>\n",
       "      <td>5838</td>\n",
       "      <td>500.6</td>\n",
       "      <td>NaN</td>\n",
       "      <td>5326.0</td>\n",
       "      <td>0.0</td>\n",
       "      <td>1.1</td>\n",
       "      <td>0.0</td>\n",
       "      <td>10.3</td>\n",
       "      <td>100</td>\n",
       "    </tr>\n",
       "  </tbody>\n",
       "</table>\n",
       "</div>"
      ],
      "text/plain": [
       "    Nr      Lat      Long        Latgms         Longms          Municipio  \\\n",
       "52  53 -5.49767 -70.32124  S 5 29 51.61  O 70 19 16.46  Benjamin Constant   \n",
       "30  31 -1.38598 -68.79404   S 1 23 9.53  O 68 47 38.54             Japurá   \n",
       "13  14 -2.50853 -59.60122  S 2 30 30.71   O 59 36 4.39   Rio Preto da Eva   \n",
       "\n",
       "    CodIbge Estado  AreaKm2  Desmatado2000  Incremento19992000  Floresta2000  \\\n",
       "52  1300607     AM     9146          175.8                 NaN        8748.8   \n",
       "30  1302108     AM    57555           43.5                 NaN       55889.4   \n",
       "13  1303569     AM     5838          500.6                 NaN        5326.0   \n",
       "\n",
       "    Nuvem2000  NaoObservado2000  NaoFloresta2000  Hidrografia2000  Soma   \n",
       "52        0.0              16.6              0.0            204.8    100  \n",
       "30        1.0              98.3              2.6           1520.2    100  \n",
       "13        0.0               1.1              0.0             10.3    100  "
      ]
     },
     "execution_count": 2,
     "metadata": {},
     "output_type": "execute_result"
    }
   ],
   "source": [
    "DATASETS[0].sample(3)"
   ]
  },
  {
   "cell_type": "code",
   "execution_count": 3,
   "metadata": {},
   "outputs": [
    {
     "data": {
      "text/html": [
       "<div>\n",
       "<style scoped>\n",
       "    .dataframe tbody tr th:only-of-type {\n",
       "        vertical-align: middle;\n",
       "    }\n",
       "\n",
       "    .dataframe tbody tr th {\n",
       "        vertical-align: top;\n",
       "    }\n",
       "\n",
       "    .dataframe thead th {\n",
       "        text-align: right;\n",
       "    }\n",
       "</style>\n",
       "<table border=\"1\" class=\"dataframe\">\n",
       "  <thead>\n",
       "    <tr style=\"text-align: right;\">\n",
       "      <th></th>\n",
       "      <th>Nr</th>\n",
       "      <th>Lat</th>\n",
       "      <th>Long</th>\n",
       "      <th>Latgms</th>\n",
       "      <th>Longms</th>\n",
       "      <th>Municipio</th>\n",
       "      <th>CodIbge</th>\n",
       "      <th>Estado</th>\n",
       "      <th>AreaKm2</th>\n",
       "      <th>Desmatado2001</th>\n",
       "      <th>Incremento20002001</th>\n",
       "      <th>Floresta2001</th>\n",
       "      <th>Nuvem2001</th>\n",
       "      <th>NaoObservado2001</th>\n",
       "      <th>NaoFloresta2001</th>\n",
       "      <th>Hidrografia2001</th>\n",
       "      <th>Soma</th>\n",
       "    </tr>\n",
       "  </thead>\n",
       "  <tbody>\n",
       "    <tr>\n",
       "      <th>43</th>\n",
       "      <td>44</td>\n",
       "      <td>-3.30477</td>\n",
       "      <td>-59.55597</td>\n",
       "      <td>S 3 18 17.17</td>\n",
       "      <td>O 59 33 21.49</td>\n",
       "      <td>Careiro da Várzea</td>\n",
       "      <td>1301159</td>\n",
       "      <td>AM</td>\n",
       "      <td>2641</td>\n",
       "      <td>379.1</td>\n",
       "      <td>10.7</td>\n",
       "      <td>925.9</td>\n",
       "      <td>0.0</td>\n",
       "      <td>0.2</td>\n",
       "      <td>707.8</td>\n",
       "      <td>628.0</td>\n",
       "      <td>100</td>\n",
       "    </tr>\n",
       "    <tr>\n",
       "      <th>13</th>\n",
       "      <td>14</td>\n",
       "      <td>-2.50853</td>\n",
       "      <td>-59.60122</td>\n",
       "      <td>S 2 30 30.71</td>\n",
       "      <td>O 59 36 4.39</td>\n",
       "      <td>Rio Preto da Eva</td>\n",
       "      <td>1303569</td>\n",
       "      <td>AM</td>\n",
       "      <td>5838</td>\n",
       "      <td>515.6</td>\n",
       "      <td>14.9</td>\n",
       "      <td>5311.0</td>\n",
       "      <td>0.0</td>\n",
       "      <td>1.1</td>\n",
       "      <td>0.0</td>\n",
       "      <td>10.3</td>\n",
       "      <td>100</td>\n",
       "    </tr>\n",
       "  </tbody>\n",
       "</table>\n",
       "</div>"
      ],
      "text/plain": [
       "    Nr      Lat      Long        Latgms         Longms          Municipio  \\\n",
       "43  44 -3.30477 -59.55597  S 3 18 17.17  O 59 33 21.49  Careiro da Várzea   \n",
       "13  14 -2.50853 -59.60122  S 2 30 30.71   O 59 36 4.39   Rio Preto da Eva   \n",
       "\n",
       "    CodIbge Estado  AreaKm2  Desmatado2001  Incremento20002001  Floresta2001  \\\n",
       "43  1301159     AM     2641          379.1                10.7         925.9   \n",
       "13  1303569     AM     5838          515.6                14.9        5311.0   \n",
       "\n",
       "    Nuvem2001  NaoObservado2001  NaoFloresta2001  Hidrografia2001  Soma   \n",
       "43        0.0               0.2            707.8            628.0    100  \n",
       "13        0.0               1.1              0.0             10.3    100  "
      ]
     },
     "execution_count": 3,
     "metadata": {},
     "output_type": "execute_result"
    }
   ],
   "source": [
    "DATASETS[1].sample(2)"
   ]
  },
  {
   "cell_type": "markdown",
   "metadata": {},
   "source": [
    "# Limpando os Dados:\n",
    "\n",
    "Esse...\n",
    "\n",
    "!! [...](#www.loremipsum.com)"
   ]
  },
  {
   "cell_type": "markdown",
   "metadata": {},
   "source": [
    "### Removendo colunas que não são importantes:"
   ]
  },
  {
   "cell_type": "code",
   "execution_count": 4,
   "metadata": {},
   "outputs": [
    {
     "name": "stdout",
     "output_type": "stream",
     "text": [
      "Index(['Nr', 'Lat', 'Long', 'Latgms', 'Longms', 'Municipio', 'CodIbge',\n",
      "       'Estado', 'AreaKm2', 'Desmatado2000', 'Incremento19992000',\n",
      "       'Floresta2000', 'Nuvem2000', 'NaoObservado2000', 'NaoFloresta2000',\n",
      "       'Hidrografia2000', 'Soma '],\n",
      "      dtype='object')\n"
     ]
    }
   ],
   "source": [
    "print(DATASETS[0].columns)"
   ]
  },
  {
   "cell_type": "code",
   "execution_count": 5,
   "metadata": {},
   "outputs": [],
   "source": [
    "DATASETS[0].drop(columns = ['Incremento19992000'], inplace = True)"
   ]
  },
  {
   "cell_type": "code",
   "execution_count": 6,
   "metadata": {},
   "outputs": [
    {
     "name": "stdout",
     "output_type": "stream",
     "text": [
      "0\n",
      "1\n",
      "2\n",
      "3\n",
      "4\n",
      "5\n",
      "6\n",
      "7\n",
      "8\n",
      "9\n",
      "10\n",
      "11\n",
      "12\n",
      "13\n",
      "14\n",
      "15\n",
      "16\n",
      "17\n",
      "18\n"
     ]
    },
    {
     "data": {
      "text/html": [
       "<div>\n",
       "<style scoped>\n",
       "    .dataframe tbody tr th:only-of-type {\n",
       "        vertical-align: middle;\n",
       "    }\n",
       "\n",
       "    .dataframe tbody tr th {\n",
       "        vertical-align: top;\n",
       "    }\n",
       "\n",
       "    .dataframe thead th {\n",
       "        text-align: right;\n",
       "    }\n",
       "</style>\n",
       "<table border=\"1\" class=\"dataframe\">\n",
       "  <thead>\n",
       "    <tr style=\"text-align: right;\">\n",
       "      <th></th>\n",
       "      <th>Lat</th>\n",
       "      <th>Long</th>\n",
       "      <th>Municipio</th>\n",
       "      <th>AreaKm2</th>\n",
       "      <th>Desmatado2000</th>\n",
       "      <th>Floresta2000</th>\n",
       "      <th>Nuvem2000</th>\n",
       "      <th>NaoObservado2000</th>\n",
       "      <th>NaoFloresta2000</th>\n",
       "      <th>Hidrografia2000</th>\n",
       "    </tr>\n",
       "  </thead>\n",
       "  <tbody>\n",
       "    <tr>\n",
       "      <th>8</th>\n",
       "      <td>-1.89625</td>\n",
       "      <td>-58.81001</td>\n",
       "      <td>São Sebastião do Uatumã</td>\n",
       "      <td>10776</td>\n",
       "      <td>151.4</td>\n",
       "      <td>9932.6</td>\n",
       "      <td>0.0</td>\n",
       "      <td>0.5</td>\n",
       "      <td>65.7</td>\n",
       "      <td>625.8</td>\n",
       "    </tr>\n",
       "    <tr>\n",
       "      <th>49</th>\n",
       "      <td>-8.81858</td>\n",
       "      <td>-68.00168</td>\n",
       "      <td>Boca do Acre</td>\n",
       "      <td>22595</td>\n",
       "      <td>1209.8</td>\n",
       "      <td>21200.9</td>\n",
       "      <td>0.0</td>\n",
       "      <td>1.9</td>\n",
       "      <td>58.4</td>\n",
       "      <td>124.0</td>\n",
       "    </tr>\n",
       "  </tbody>\n",
       "</table>\n",
       "</div>"
      ],
      "text/plain": [
       "        Lat      Long                Municipio  AreaKm2  Desmatado2000  \\\n",
       "8  -1.89625 -58.81001  São Sebastião do Uatumã    10776          151.4   \n",
       "49 -8.81858 -68.00168             Boca do Acre    22595         1209.8   \n",
       "\n",
       "    Floresta2000  Nuvem2000  NaoObservado2000  NaoFloresta2000  \\\n",
       "8         9932.6        0.0               0.5             65.7   \n",
       "49       21200.9        0.0               1.9             58.4   \n",
       "\n",
       "    Hidrografia2000  \n",
       "8             625.8  \n",
       "49            124.0  "
      ]
     },
     "execution_count": 6,
     "metadata": {},
     "output_type": "execute_result"
    }
   ],
   "source": [
    "\n",
    "DATASETS[0]\n",
    "\n",
    "for index, value in enumerate(DATASETS):\n",
    "    print(index)\n",
    "    if index < 10:\n",
    "        value.drop(columns = ['Nr'], inplace = True)\n",
    "        value.drop(columns = ['CodIbge'], inplace = True)\n",
    "        value.drop(columns = [f'Nuvem200{index}'])\n",
    "        value.drop(columns = ['Estado'], inplace = True)\n",
    "        value.drop(columns = ['Soma '], inplace = True)\n",
    "        value.drop(columns = ['Latgms'], inplace = True)\n",
    "        value.drop(columns = ['Longms'], inplace = True)\n",
    "        \n",
    "    else:\n",
    "        value.drop(columns = ['Nr'], inplace = True)\n",
    "        value.drop(columns = ['CodIbge'], inplace = True)\n",
    "        value.drop(columns = [f'Nuvem20{index}'], inplace = True)\n",
    "        value.drop(columns = ['Estado'], inplace = True)\n",
    "        value.drop(columns = ['Latgms'], inplace = True)\n",
    "        value.drop(columns = ['Longms'], inplace = True)\n",
    "\n",
    "# DATASETS[0].drop(columns = ['Nr'], inplace = True)\n",
    "\n",
    "DATASETS[0].sample(2)"
   ]
  },
  {
   "cell_type": "code",
   "execution_count": 7,
   "metadata": {},
   "outputs": [
    {
     "name": "stdout",
     "output_type": "stream",
     "text": [
      "Index(['Lat', 'Long', 'Municipio', 'AreaKm2', 'Desmatado2000', 'Floresta2000',\n",
      "       'Nuvem2000', 'NaoObservado2000', 'NaoFloresta2000', 'Hidrografia2000'],\n",
      "      dtype='object')\n"
     ]
    }
   ],
   "source": [
    "print(DATASETS[0].columns)"
   ]
  },
  {
   "cell_type": "markdown",
   "metadata": {},
   "source": [
    "### Tirando acento dos caracteres"
   ]
  },
  {
   "cell_type": "code",
   "execution_count": 8,
   "metadata": {},
   "outputs": [
    {
     "data": {
      "text/plain": [
       "0     Urucurituba\n",
       "1         Urucara\n",
       "2          Uarini\n",
       "3       Tonantins\n",
       "4            Tefe\n",
       "         ...     \n",
       "57           Apui\n",
       "58          Anori\n",
       "59          Anama\n",
       "60        Amatura\n",
       "61       Alvaraes\n",
       "Name: Municipio, Length: 62, dtype: object"
      ]
     },
     "execution_count": 8,
     "metadata": {},
     "output_type": "execute_result"
    }
   ],
   "source": [
    "#Criando método para retirar os acentos das palavras dentro deste dataset:\n",
    "def substituir_caracteres(columns):  \n",
    "  columns = columns.replace('Á','A').replace('Â','A').replace('Ã','A').replace('À','A').replace('É','E').replace('Ê','E').replace('È','E').replace('Í','I').replace('Ì','I').replace('Î','I').replace('Ó','O').replace('Ò','O').replace('Õ','O').replace('Ô','O').replace('Ú','U').replace('Ù','U').replace('Û','U').replace('Ç','C').replace('á','a').replace('â','a').replace('ã','a').replace('à','a').replace('é','e').replace('ê','e').replace('è','e').replace('í','i').replace('ì','i').replace('î','i').replace('ó','o').replace('ò','o').replace('õ','o').replace('ô','o').replace('ú','u').replace('ù','u').replace('û','u').replace('ç','c').replace('-', ' ').replace('.','')\n",
    "  return columns\n",
    "\n",
    "for index,dataset in enumerate(DATASETS):\n",
    "  DATASETS[index]['Municipio'] = DATASETS[index]['Municipio'].apply(substituir_caracteres)\n",
    "\n",
    "DATASETS[0]['Municipio']"
   ]
  },
  {
   "cell_type": "markdown",
   "metadata": {},
   "source": [
    "### Criando coluna de fronteira entre municípios"
   ]
  },
  {
   "cell_type": "code",
   "execution_count": null,
   "metadata": {},
   "outputs": [],
   "source": [
    "\n",
    "\n",
    "\n",
    " "
   ]
  },
  {
   "cell_type": "markdown",
   "metadata": {},
   "source": []
  },
  {
   "cell_type": "code",
   "execution_count": 9,
   "metadata": {},
   "outputs": [],
   "source": [
    "\n",
    "#1º Percorre todos os municípios de um único DF\n",
    "#2º Pergunta se todos os outros municípios fazem fronteira com ele\n",
    "    #2.1º Se sim inclui estes em uma lista\n",
    "    #2.2º Se não passa\n",
    "\n",
    "#paraleloº Cria um dicionário com o nome de todos os municípios e valor vazio como correspondente\n",
    "\n",
    "#3º Insere essa lista como valor correspondente à chave de um dicionário\n",
    "\n",
    "\n",
    "\n",
    "\n",
    "\n",
    "\n",
    "#Recebe a coluna de municípios:\n",
    "# def MakeAdjascencyCity(Column):\n",
    "#     for index, city in enumerate(Column):\n",
    "#         print(index, city)\n",
    "\n",
    "# def MakeAdjascencyColumns(DATASETS):\n",
    "#     for index, dataFrame in enumerate(DATASETS):\n",
    "#         MakeAdjascencyCity(dataFrame['Municipio'])\n",
    "     \n",
    "        \n",
    "# MakeAdjascencyCity(DATASETS[18]['Municipio'])\n",
    "# MakeAdjascencyColumns(DATASETS)"
   ]
  }
 ],
 "metadata": {
  "kernelspec": {
   "display_name": "Python 3",
   "language": "python",
   "name": "python3"
  },
  "language_info": {
   "codemirror_mode": {
    "name": "ipython",
    "version": 3
   },
   "file_extension": ".py",
   "mimetype": "text/x-python",
   "name": "python",
   "nbconvert_exporter": "python",
   "pygments_lexer": "ipython3",
   "version": "3.9.2"
  }
 },
 "nbformat": 4,
 "nbformat_minor": 2
}

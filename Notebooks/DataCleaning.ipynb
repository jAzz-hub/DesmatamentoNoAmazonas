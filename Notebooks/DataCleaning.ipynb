{
 "cells": [
  {
   "cell_type": "markdown",
   "metadata": {},
   "source": [
    "# Obtenção dos Dados:\n",
    "\n",
    "Este projeto foi inspirado pelas atividades previamente realizadas por [Kizzy Terra](#https://github.com/kterra) e os dados utilizados estão neste [repositório](#https://github.com/kterra/ciencia-de-dados-aplicada), que segundo a própria autora foram dados obtidos pelo PRODES.\n",
    "\n",
    "_\"O projeto PRODES realiza o monitoramento por satélites do desmatamento por corte raso na Amazônia Legal e produz, desde 1988, as taxas anuais de desmatamento na região, que são usadas pelo governo brasileiro para o estabelecimento de políticas públicas.\"_ - [Coordenação Geral de Observação da Terra INPE](#http://www.obt.inpe.br/OBT/assuntos/programas/amazonia/prodes#:~:text=O%20projeto%20PRODES%20realiza%20o,o%20estabelecimento%20de%20pol%C3%ADticas%20p%C3%BAblicas.)"
   ]
  },
  {
   "cell_type": "code",
   "execution_count": null,
   "metadata": {},
   "outputs": [],
   "source": [
    "from modules import *\n",
    "\n",
    "\n",
    "\n",
    "# DATASETS = [pd.read_csv(f'../Data/DesmatamentoMunicipios20{digits}.txt', sep=',', encoding='iso-8859-1') for digits in range(0,18)]\n",
    "DATASETS = []\n",
    "\n",
    "for i in range(0,19):\n",
    "    a = '../Data/2000_2018/DesmatamentoMunicipiosAM2000.txt'\n",
    "    if i < 10: DATASETS.append(pd.read_csv(f'../Data/2000_2018/DesmatamentoMunicipiosAM200{i}.txt', sep=',', encoding='iso-8859-1'))\n",
    "    elif i>=10: DATASETS.append(pd.read_csv(f'../Data/2000_2018/DesmatamentoMunicipiosAM20{i}.txt', sep=',', encoding='iso-8859-1'))\n",
    "     \n",
    "\n",
    "type(DATASETS[0])\n"
   ]
  },
  {
   "cell_type": "markdown",
   "metadata": {},
   "source": [
    "**DATASETS** é uma lista com 19 dataframes com as informações dos arquivos que estão no diretório _`../Data/2000_2018`_"
   ]
  },
  {
   "cell_type": "code",
   "execution_count": null,
   "metadata": {},
   "outputs": [],
   "source": [
    "DATASETS[0].sample(3)"
   ]
  },
  {
   "cell_type": "code",
   "execution_count": null,
   "metadata": {},
   "outputs": [],
   "source": [
    "DATASETS[1].sample(2)"
   ]
  },
  {
   "cell_type": "markdown",
   "metadata": {},
   "source": [
    "**MunicipalAdjascencyDict** é um dicionário contendo como chave o nome de uma cidade e como valor os municípios de adjascência da mesma\n",
    "\n",
    "A referência de Ajascência municipal segue o modelo de mapa proposto pelo [Mapa do Escolar feito pelo IBGE](#https://geoftp.ibge.gov.br/produtos_educacionais/mapas_tematicos/mapas_do_brasil/mapas_estaduais/politico/amazonas.jpg) modificado em 2016, segue o exemplo:\n"
   ]
  },
  {
   "cell_type": "code",
   "execution_count": null,
   "metadata": {},
   "outputs": [],
   "source": [
    "MunicipalAdjascencyDict = {\n",
    "   \n",
    "'Urucurituba' : \n",
    "['Boa Vista do Ramos', 'Barreirinha', 'Itapiranga', 'Itacoatiara', 'Parintins', 'Urucara', 'Silves', 'Nhamunda'],\n",
    "\n",
    "'Urucara' : \n",
    "['Nhamunda', 'Urucurituba', 'Itapiranga', 'Sao Sebastiao do Uatuma', 'Presidente Figueiredo'],\n",
    "\n",
    "'Uarini' : \n",
    "['Maraa','Fonte Boa','Jurua', 'Alvaraes','Tefe'],\n",
    "\n",
    "'Tonantins' : \n",
    "['Japura', 'Santo Antonio do Ica', 'Fonte Boa', 'Jutai'],\n",
    "\n",
    "'Tefe' : \n",
    "['Tapaua', 'Maraa', 'Carauari', 'Jurua', 'Alvaraes', 'Uarini'],\n",
    "\n",
    "'Tapaua' : \n",
    "['Itamarati', 'Pauini', 'Labrea', 'Canutama', 'Carauari', 'Tefe', 'Coari', 'Anori', 'Beruri', 'Manicore', 'Humaita'],\n",
    "\n",
    "'Tabatinga' : \n",
    "['Benjamin Constant', 'Santo Antonio do Ica', 'Sao Paulo de Olivenca'],\n",
    "\n",
    "'Silves' : \n",
    "[ 'Urucurituba', 'Itacoatiara', 'Itapiranga'],\n",
    "\n",
    "'Sao Sebastiao do Uatuma' : \n",
    "['Urucara', 'Presidente Figueiredo', 'Itapiranga'],\n",
    "\n",
    "'Sao Paulo de Olivenca' : \n",
    "['Benjamin Constant', 'Jutai', 'Tabatinga', 'Santo Antonio do Ica', 'Amatura'],\n",
    "\n",
    "'Sao Gabriel da Cachoeira' : \n",
    "['Japura', 'Santa Isabel do Rio Negro'],\n",
    "\n",
    "'Santo Antonio do Ica' : \n",
    "['Sao Paulo de Olivenca', 'Tabatinga', 'Amatura' , 'Tonantins', 'Jutai', 'Japura'],\n",
    "\n",
    "'Santa Isabel do Rio Negro' : \n",
    "['Sao Gabriel da Cachoeira', 'Japura', 'Maraa', 'Barcelos'],\n",
    "\n",
    "'Rio Preto da Eva' : \n",
    "['Itacoatiara', 'Manaus', 'Itapiranga', 'Presidente Figueiredo'],\n",
    "\n",
    "'Presidente Figueiredo' : \n",
    "['Rio Preto da Eva', 'Manaus', 'Novo Airao', 'Itapiranga', 'Sao Sebastiao do Uatuma', 'Urucara'],\n",
    "\n",
    "'Pauini' : #15\n",
    "['Boca do Acre', 'Envira', 'Itamarati', 'Eirunepe','Tapaua', 'Labrea'],\n",
    "\n",
    "'Parintins' : #16\n",
    "['Nhamunda', 'Urucurituba', 'Barreirinha'],\n",
    "\n",
    "'Novo Aripuana' : \n",
    "['Manicore', 'Apui', 'Borba'],\n",
    "\n",
    "'Novo Airao' :  #18\n",
    "['Barcelos', 'Codajas', 'Caapiranga', 'Manacapuru', 'Manaus', 'Presidente Figueiredo'],\n",
    "\n",
    "'Nova Olinda do Norte' : \n",
    "['Borba', 'Maues', 'Autazes', 'Itacoatiara'],\n",
    "\n",
    "'Nhamunda' :  \n",
    "['Urucara', 'Urucurituba', 'Parintins', 'Maues'],\n",
    "\n",
    "'Maues' : #21\n",
    "['Apui', 'Borba', 'Itacoatiara', 'Boa Vista do Ramos', 'Barreirinha', 'Nova Olinda do Norte'],\n",
    "\n",
    "'Maraa' : \n",
    "['Fonte Boa', 'Japura', 'Santa Isabel do Rio Negro', 'Barcelos', 'Codajas', 'Coari', 'Tefe', 'Uarini'],\n",
    "\n",
    "'Manicore' : \n",
    "['Humaita', 'Tapaua', 'Beruri', 'Borba','Novo Aripuana'],\n",
    "\n",
    "'Manaus' : \n",
    "['Manacapuru','Itacoatiara','Careiro', 'Careiro da Varzea', 'Iranduba', 'Manacapuru', 'Novo Airao', 'Presidente Figueiredo', 'Rio Preto da Eva'],\n",
    "\n",
    "'Manaquiri' : \n",
    "['Manacapuru', 'Borba', 'Beruri', 'Iranduba', 'Manaus', 'Careiro'],\n",
    "\n",
    "'Manacapuru' : \n",
    "['Novo Airao', 'Caapiranga', 'Anama', 'Anori', 'Beruri', 'Manaquiri', 'Iranduba', 'Manaus'],\n",
    "\n",
    "'Labrea' : \n",
    "['Boca do Acre', 'Pauini', 'Itamarati', 'Tapaua', 'Canutama'],\n",
    "\n",
    "'Jutai' :  \n",
    "['Itamarati', 'Eirunepe', 'Benjamin Constant', 'Sao Paulo de Olivenca','Amatura','Santo Antonio do Ica', 'Tonantins', 'Fonte Boa', 'Jurua', 'Carauari'],\n",
    "\n",
    "'Jurua' :  \n",
    "['Carauari', 'Jutai', 'Fonte Boa', 'Uarini', 'Alvaraes', 'Tefe'],\n",
    "\n",
    "'Japura' : \n",
    "['Santo Antonio do Ica','Tonantins','Fonte Boa', 'Maraa','Santa Isabel do Rio Negro','Sao Gabriel da Cachoeira'],\n",
    "\n",
    "'Itapiranga' :  \n",
    "['Presidente Figueiredo','Sao Sebastiao do Uatuma','Urucara','Urucurituba', 'Silves', 'Rio Preto da Eva', 'Itacoatiara'],\n",
    "\n",
    "'Itamarati' : \n",
    "['Envira', 'Eirunepe', 'Jutai', 'Carauari', 'Tapaua','Labrea','Pauini'],\n",
    "\n",
    "'Itacoatiara' : \n",
    "['Autazes', 'Careiro da Varzea', 'Maues', 'Rio Preto da Eva', 'Nova Olinda do Norte', 'Manaus', 'Silves', 'Itapiranga', 'Urucurituba', 'Boa Vista do Ramos'],\n",
    "\n",
    "'Iranduba' :  \n",
    "['Novo Airao','Careiro', 'Careiro da Varzea', 'Manacapuru', 'Manaquiri', 'Manaus'],\n",
    "\n",
    "'Ipixuna' : \n",
    "['Eirunepe', 'Benjamin Constant', 'Atalaia do Norte', 'Guajara'],\n",
    "\n",
    "'Humaita' : \n",
    "['Canutama', 'Tapaua', 'Manicore'],\n",
    "\n",
    "'Guajara' : \n",
    "['Atalaia do Norte', 'Ipixuna'],\n",
    "\n",
    "'Fonte Boa' : \n",
    "['Jutai', 'Jurua', 'Tonantins', 'Japura', 'Maraa', 'Uarini'],\n",
    "\n",
    "'Envira' : \n",
    "['Pauini', 'Itamarati', 'Eirunepe'],\n",
    "\n",
    "'Eirunepe' : \n",
    "['Benjamin Constant', 'Ipixuna', 'Envira', 'Itamarati', 'Jutai','Pauini'],\n",
    "\n",
    "'Codajas' : \n",
    "['Anama','Anori','Coari','Maraa','Barcelos','Novo Airao','Caapiranga'],\n",
    "\n",
    "'Coari' : \n",
    "['Maraa', 'Codajas', 'Tefe', 'Tapaua', 'Anori','Barcelos'],\n",
    "\n",
    "'Careiro da Varzea' : \n",
    "['Iranduba', 'Careiro', 'Manaus', 'Itacoatiara', 'Autazes'],\n",
    "\n",
    "'Careiro' : \n",
    "['Iranduba', 'Manacapuru', 'Manaquiri', 'Borba', 'Autazes', 'Careiro da Varzea', 'Manaus'],\n",
    "\n",
    "'Carauari' : \n",
    "['Tefe', 'Alvaraes', 'Jurua', 'Jutai', 'Itamarati', 'Tapaua'],\n",
    "\n",
    "'Canutama' :  \n",
    "['Labrea', 'Tapaua', 'Humaita'],\n",
    "\n",
    "'Caapiranga' : \n",
    "['Anama', 'Manacapuru', 'Novo Airao', 'Codajas'],\n",
    "\n",
    "'Borba' : \n",
    "['Maues', 'Nova Olinda do Norte', 'Autazes', 'Careiro', 'Manaquiri', 'Beruri', 'Manicore', 'Novo Aripuana', 'Apui'],\n",
    "\n",
    "'Boca do Acre' : \n",
    "['Pauini', 'Labrea'],\n",
    "\n",
    "'Boa Vista do Ramos' : \n",
    "['Maues','Barreirinha', 'Urucurituba', 'Itacoatiara'],\n",
    "\n",
    "'Beruri' : \n",
    "['Manicore', 'Tapaua', 'Anori', 'Anama', 'Manacapuru', 'Manaquiri'],\n",
    "\n",
    "'Benjamin Constant' : \n",
    "['Atalaia do Norte', 'Ipixuna', 'Eirunepe', 'Jutai', 'Sao Paulo de Olivenca', 'Tabatinga'],\n",
    "\n",
    "'Barreirinha' : \n",
    "['Maues', 'Boa Vista do Ramos', 'Urucurituba', 'Parintins'],\n",
    "\n",
    "'Barcelos' : \n",
    "['Santa Isabel do Rio Negro', 'Novo Airao', 'Maraa', 'Codajas', 'Coari'],\n",
    "\n",
    "'Autazes' : \n",
    "['Manaus', 'Careiro', 'Careiro da Varzea', 'Borba', 'Itacoatiara', 'Nova Olinda do Norte'],\n",
    "\n",
    "'Atalaia do Norte' :  \n",
    "['Benjamin Constant', 'Guajara','Ipixuna'],\n",
    "\n",
    "'Apui' : \n",
    "['Novo Aripuana', 'Borba', 'Maues'],\n",
    "\n",
    "'Anori' : \n",
    "['Beruri', 'Tapaua', 'Coari', 'Codajas', 'Anama'],\n",
    "\n",
    "'Anama' :  \n",
    "['Manacapuru', 'Beruri', 'Anori','Codajas','Caapiranga'],\n",
    "\n",
    "'Amatura' : \n",
    "['Sao Paulo de Olivenca', 'Jutai', 'Santo Antonio do Ica'],\n",
    "\n",
    "'Alvaraes' : \n",
    "['Tefe', 'Carauari', 'Jurua', 'Uarini']\n",
    "\n",
    "}\n"
   ]
  },
  {
   "cell_type": "markdown",
   "metadata": {},
   "source": [
    "# Limpeza e Inserção de Dados:\n",
    "\n",
    "A remoção de caracteres e de colunas não utilizadas facilitará o trabalho com as informações essênciais. Além disso a normalização dos dados e estabelecimento de adjascência entre municípios será essêncial para análise destes e modelagem dos grafos."
   ]
  },
  {
   "cell_type": "markdown",
   "metadata": {},
   "source": [
    "### Removendo colunas irrelevantes:"
   ]
  },
  {
   "cell_type": "code",
   "execution_count": null,
   "metadata": {},
   "outputs": [],
   "source": [
    "print(DATASETS[0].columns)"
   ]
  },
  {
   "cell_type": "code",
   "execution_count": null,
   "metadata": {},
   "outputs": [],
   "source": [
    "DATASETS[0].drop(columns = ['Incremento19992000'], inplace = True)"
   ]
  },
  {
   "cell_type": "code",
   "execution_count": null,
   "metadata": {},
   "outputs": [],
   "source": [
    "\n",
    "DATASETS[0]\n",
    "\n",
    "for index, value in enumerate(DATASETS):\n",
    "    if index < 10:\n",
    "        value.drop(columns = ['Nr'], inplace = True)\n",
    "        value.drop(columns = ['CodIbge'], inplace = True)\n",
    "        value.drop(columns = [f'Nuvem200{index}'], inplace = True)\n",
    "        value.drop(columns = ['Estado'], inplace = True)\n",
    "        value.drop(columns = ['Soma '], inplace = True)\n",
    "        value.drop(columns = ['Latgms'], inplace = True)\n",
    "        value.drop(columns = ['Longms'], inplace = True)\n",
    "        \n",
    "    else:\n",
    "        value.drop(columns = ['Nr'], inplace = True)\n",
    "        value.drop(columns = ['CodIbge'], inplace = True)\n",
    "        value.drop(columns = [f'Nuvem20{index}'], inplace = True)\n",
    "        value.drop(columns = ['Estado'], inplace = True)\n",
    "        value.drop(columns = ['Latgms'], inplace = True)\n",
    "        value.drop(columns = ['Longms'], inplace = True)\n",
    "\n",
    "DATASETS[0].sample(2)"
   ]
  },
  {
   "cell_type": "markdown",
   "metadata": {},
   "source": [
    "### Tirando acento dos caracteres"
   ]
  },
  {
   "cell_type": "code",
   "execution_count": null,
   "metadata": {},
   "outputs": [],
   "source": [
    "#Criando método para retirar os acentos das palavras dentro deste dataset:\n",
    "def substituir_caracteres(columns):  \n",
    "  columns = columns.replace('Á','A').replace('Â','A').replace('Ã','A').replace('À','A').replace('É','E').replace('Ê','E').replace('È','E').replace('Í','I').replace('Ì','I').replace('Î','I').replace('Ó','O').replace('Ò','O').replace('Õ','O').replace('Ô','O').replace('Ú','U').replace('Ù','U').replace('Û','U').replace('Ç','C').replace('á','a').replace('â','a').replace('ã','a').replace('à','a').replace('é','e').replace('ê','e').replace('è','e').replace('í','i').replace('ì','i').replace('î','i').replace('ó','o').replace('ò','o').replace('õ','o').replace('ô','o').replace('ú','u').replace('ù','u').replace('û','u').replace('ç','c').replace('-', ' ').replace('.','')\n",
    "  return columns\n",
    "\n",
    "for index,dataset in enumerate(DATASETS):\n",
    "  DATASETS[index]['Municipio'] = DATASETS[index]['Municipio'].apply(substituir_caracteres)\n",
    "\n",
    "DATASETS[0]['Municipio'].sample(15)"
   ]
  },
  {
   "cell_type": "markdown",
   "metadata": {},
   "source": [
    "### Criando coluna de fronteira entre municípios para todos os datasets"
   ]
  },
  {
   "cell_type": "code",
   "execution_count": null,
   "metadata": {},
   "outputs": [],
   "source": [
    "\n",
    "MunicipalAdjascencyList = [x for x in MunicipalAdjascencyDict.values()]\n",
    "\n",
    "for i in DATASETS:\n",
    "    i['Fronteiras'] = MunicipalAdjascencyList\n",
    "\n",
    "# DATASETS[0].head(2)\n",
    "print('Boa Vista do Ramos ' in DATASETS[0]['Municipio'])\n",
    "print('Boa Vista do Ramos' in DATASETS[0]['Municipio'])\n",
    "DATASETS[0][49:51]\n",
    "print(DATASETS[0]['Municipio'][50] == 'Boa Vista do Ramos')\n",
    "print('Boa Vista do Ramos' in DATASETS[0]['Municipio'].unique())\n"
   ]
  },
  {
   "cell_type": "markdown",
   "metadata": {},
   "source": []
  },
  {
   "cell_type": "markdown",
   "metadata": {},
   "source": [
    "### Estabelecendo média de desmatamento:"
   ]
  },
  {
   "cell_type": "code",
   "execution_count": null,
   "metadata": {},
   "outputs": [],
   "source": [
    "# mean_column = []\n",
    "\n",
    "mean = DATASETS[0]['Desmatado2000'].mean()\n",
    "\n",
    "# print(mean)\n",
    "for index, dataframe in enumerate(DATASETS):\n",
    "    mean_column = []\n",
    "    if index < 10:\n",
    "        mean = dataframe[f'Desmatado200{index}'].mean()\n",
    "        for i in dataframe[f'Desmatado200{index}']:\n",
    "            mean_column.append(True) if i > mean else mean_column.append(False)\n",
    "    else:\n",
    "        mean = dataframe[f'Desmatado20{index}'].mean()\n",
    "        for i in dataframe[f'Desmatado20{index}']:\n",
    "            mean_column.append(True) if i > mean else mean_column.append(False)\n",
    "\n",
    "    DATASETS[index]['MaiorQueAMédia'] = mean_column\n",
    "\n",
    "# exit()\n",
    "\n",
    "        \n",
    "#    if DATASETS[0]['Desmatado2000'].mean() < "
   ]
  },
  {
   "cell_type": "markdown",
   "metadata": {},
   "source": [
    "# Exportando dados em csv para análise:\n",
    "\n",
    "A análise dos dado junto à modelagem do grafo são realizados em um arquivo próprio, sendo este exclusivamente utilizado para limpeza dos dados. Os arquivos com dados tratados estão na pasta CleanData2000_2018."
   ]
  },
  {
   "cell_type": "code",
   "execution_count": null,
   "metadata": {},
   "outputs": [],
   "source": [
    "\n",
    "for index, dataframe in enumerate(DATASETS):\n",
    "        path_to_save = r'~/Área de trabalho/ALL/Desktop/CEFET2/AEDS2/Atividades e Trabalhos/Desenvolvimento/DataAnalysis/DesmatamentoNoAmazonas/Data/CleanData2000_2018/'\n",
    "        if index < 10:\n",
    "                dataframe.to_csv(path_to_save+f'Cleaned200{index}.csv' , index = False, encoding='utf-8')\n",
    "        else:\n",
    "                dataframe.to_csv(path_to_save+f'Cleaned20{index}.csv', index = False, encoding='utf-8')"
   ]
  }
 ],
 "metadata": {
  "kernelspec": {
   "display_name": "Python 3",
   "language": "python",
   "name": "python3"
  },
  "language_info": {
   "codemirror_mode": {
    "name": "ipython",
    "version": 3
   },
   "file_extension": ".py",
   "mimetype": "text/x-python",
   "name": "python",
   "nbconvert_exporter": "python",
   "pygments_lexer": "ipython3",
   "version": "3.9.2"
  }
 },
 "nbformat": 4,
 "nbformat_minor": 2
}
